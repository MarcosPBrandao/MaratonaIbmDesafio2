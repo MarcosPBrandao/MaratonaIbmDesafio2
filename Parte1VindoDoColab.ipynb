{
    "cells": [
        {
            "metadata": {},
            "cell_type": "code",
            "source": "!pip install scikit-learn==0.20.0 --upgrade",
            "execution_count": 2,
            "outputs": [
                {
                    "output_type": "stream",
                    "text": "Requirement already up-to-date: scikit-learn==0.20.0 in /opt/conda/envs/Python36/lib/python3.6/site-packages (0.20.0)\r\nRequirement already satisfied, skipping upgrade: numpy>=1.8.2 in /opt/conda/envs/Python36/lib/python3.6/site-packages (from scikit-learn==0.20.0) (1.15.4)\r\nRequirement already satisfied, skipping upgrade: scipy>=0.13.3 in /opt/conda/envs/Python36/lib/python3.6/site-packages (from scikit-learn==0.20.0) (1.2.0)\r\n",
                    "name": "stdout"
                }
            ]
        },
        {
            "metadata": {},
            "cell_type": "code",
            "source": "import json\nimport requests\nimport pandas as pd\nimport numpy as np\nimport xgboost as xgb\nfrom sklearn.impute import SimpleImputer\nfrom sklearn.model_selection import train_test_split\nfrom sklearn.ensemble import RandomForestClassifier\nfrom sklearn.tree import DecisionTreeClassifier\n#from sklearn.tree import export_graphviz\n#from xgboost import XGBClassifier # <-- Importe XGBoost\nfrom sklearn.pipeline import Pipeline\nfrom sklearn.model_selection import KFold, cross_validate",
            "execution_count": 3,
            "outputs": []
        },
        {
            "metadata": {},
            "cell_type": "code",
            "source": "\nimport types\nimport pandas as pd\nfrom botocore.client import Config\nimport ibm_boto3\n\ndef __iter__(self): return 0\n\n# @hidden_cell\n# The following code accesses a file in your IBM Cloud Object Storage. It includes your credentials.\n# You might want to remove those credentials before you share the notebook.\nclient_a48e64ea2b734f35bf1786233291f0ff = ibm_boto3.client(service_name='s3',\n    ibm_api_key_id='FWotnJU_0h_w6LlX-Z6LY89JmTvRs21J_SW_lIMo_H_M',\n    ibm_auth_endpoint=\"https://iam.cloud.ibm.com/oidc/token\",\n    config=Config(signature_version='oauth'),\n    endpoint_url='https://s3.ap-geo.objectstorage.service.networklayer.com')\n\nbody = client_a48e64ea2b734f35bf1786233291f0ff.get_object(Bucket='desafio2marcosbrandao-donotdelete-pr-qc0lbd3e0b2pcw',Key='dataset_desafio_2.csv')['Body']\n# add missing __iter__ method, so pandas accepts body as file-like object\nif not hasattr(body, \"__iter__\"): body.__iter__ = types.MethodType( __iter__, body )\n\ndf_data_1 = pd.read_csv(body)\ndf_data_1.head()\n",
            "execution_count": 4,
            "outputs": [
                {
                    "output_type": "execute_result",
                    "execution_count": 4,
                    "data": {
                        "text/plain": "   MATRICULA                       NOME  REPROVACOES_DE  REPROVACOES_EM  \\\n0     502375          M\u00e1rcia Illiglener               0               0   \n1     397093   Jason Jytereoman Izoimum               0               0   \n2     915288  Bartolomeu In\u00e1cio da Gama               0               0   \n3     192652            Fernanda Guedes               1               3   \n4     949491     Alessandre Borba Gomes               1               3   \n\n   REPROVACOES_MF  REPROVACOES_GO  NOTA_DE  NOTA_EM  NOTA_MF  NOTA_GO  INGLES  \\\n0               0               0      6.2      5.8      4.6      5.9     0.0   \n1               0               0      6.0      6.2      5.2      4.5     1.0   \n2               0               0      7.3      6.7      7.1      7.2     0.0   \n3               1               1      0.0      0.0      0.0      0.0     1.0   \n4               1               1      0.0      0.0      0.0      0.0     1.0   \n\n   H_AULA_PRES  TAREFAS_ONLINE  FALTAS       PERFIL  \n0            2               4       3       EXATAS  \n1            2               4       3       EXATAS  \n2            5               0       3      HUMANAS  \n3            4               4       4  DIFICULDADE  \n4            5               2       5  DIFICULDADE  ",
                        "text/html": "<div>\n<style scoped>\n    .dataframe tbody tr th:only-of-type {\n        vertical-align: middle;\n    }\n\n    .dataframe tbody tr th {\n        vertical-align: top;\n    }\n\n    .dataframe thead th {\n        text-align: right;\n    }\n</style>\n<table border=\"1\" class=\"dataframe\">\n  <thead>\n    <tr style=\"text-align: right;\">\n      <th></th>\n      <th>MATRICULA</th>\n      <th>NOME</th>\n      <th>REPROVACOES_DE</th>\n      <th>REPROVACOES_EM</th>\n      <th>REPROVACOES_MF</th>\n      <th>REPROVACOES_GO</th>\n      <th>NOTA_DE</th>\n      <th>NOTA_EM</th>\n      <th>NOTA_MF</th>\n      <th>NOTA_GO</th>\n      <th>INGLES</th>\n      <th>H_AULA_PRES</th>\n      <th>TAREFAS_ONLINE</th>\n      <th>FALTAS</th>\n      <th>PERFIL</th>\n    </tr>\n  </thead>\n  <tbody>\n    <tr>\n      <th>0</th>\n      <td>502375</td>\n      <td>M\u00e1rcia Illiglener</td>\n      <td>0</td>\n      <td>0</td>\n      <td>0</td>\n      <td>0</td>\n      <td>6.2</td>\n      <td>5.8</td>\n      <td>4.6</td>\n      <td>5.9</td>\n      <td>0.0</td>\n      <td>2</td>\n      <td>4</td>\n      <td>3</td>\n      <td>EXATAS</td>\n    </tr>\n    <tr>\n      <th>1</th>\n      <td>397093</td>\n      <td>Jason Jytereoman Izoimum</td>\n      <td>0</td>\n      <td>0</td>\n      <td>0</td>\n      <td>0</td>\n      <td>6.0</td>\n      <td>6.2</td>\n      <td>5.2</td>\n      <td>4.5</td>\n      <td>1.0</td>\n      <td>2</td>\n      <td>4</td>\n      <td>3</td>\n      <td>EXATAS</td>\n    </tr>\n    <tr>\n      <th>2</th>\n      <td>915288</td>\n      <td>Bartolomeu In\u00e1cio da Gama</td>\n      <td>0</td>\n      <td>0</td>\n      <td>0</td>\n      <td>0</td>\n      <td>7.3</td>\n      <td>6.7</td>\n      <td>7.1</td>\n      <td>7.2</td>\n      <td>0.0</td>\n      <td>5</td>\n      <td>0</td>\n      <td>3</td>\n      <td>HUMANAS</td>\n    </tr>\n    <tr>\n      <th>3</th>\n      <td>192652</td>\n      <td>Fernanda Guedes</td>\n      <td>1</td>\n      <td>3</td>\n      <td>1</td>\n      <td>1</td>\n      <td>0.0</td>\n      <td>0.0</td>\n      <td>0.0</td>\n      <td>0.0</td>\n      <td>1.0</td>\n      <td>4</td>\n      <td>4</td>\n      <td>4</td>\n      <td>DIFICULDADE</td>\n    </tr>\n    <tr>\n      <th>4</th>\n      <td>949491</td>\n      <td>Alessandre Borba Gomes</td>\n      <td>1</td>\n      <td>3</td>\n      <td>1</td>\n      <td>1</td>\n      <td>0.0</td>\n      <td>0.0</td>\n      <td>0.0</td>\n      <td>0.0</td>\n      <td>1.0</td>\n      <td>5</td>\n      <td>2</td>\n      <td>5</td>\n      <td>DIFICULDADE</td>\n    </tr>\n  </tbody>\n</table>\n</div>"
                    },
                    "metadata": {}
                }
            ]
        },
        {
            "metadata": {},
            "cell_type": "code",
            "source": "from sklearn.base import BaseEstimator, TransformerMixin\nclass DropColumns(BaseEstimator, TransformerMixin):\n    def __init__(self, columns):\n        self.columns = columns\n    def fit(self, X, y=None):\n        return self\n    def transform(self, X):\n        # Primeiro realizamos a c\u00f3pia do dataframe 'X' de entrada\n        data = X.copy()\n        # Retornamos um novo dataframe sem as colunas indesejadas\n        return data.drop(labels=self.columns, axis='columns')",
            "execution_count": 5,
            "outputs": []
        },
        {
            "metadata": {},
            "cell_type": "code",
            "source": "rm_columns = DropColumns(\n    columns=[\"NOME\"]  # Essa transforma\u00e7\u00e3o recebe como par\u00e2metro uma lista com os nomes das colunas indesejadas\n)",
            "execution_count": 6,
            "outputs": []
        },
        {
            "metadata": {},
            "cell_type": "code",
            "source": "rm_columns.fit(X=df_data_1)\ndf_data_2 = pd.DataFrame.from_records(\n    data=rm_columns.transform(\n        X=df_data_1\n    ),\n)",
            "execution_count": 7,
            "outputs": []
        },
        {
            "metadata": {},
            "cell_type": "code",
            "source": "si = SimpleImputer(\n    missing_values=np.nan,  # os valores faltantes s\u00e3o do tipo ``np.nan`` (padr\u00e3o Pandas)\n    strategy='constant',  # a estrat\u00e9gia escolhida \u00e9 a altera\u00e7\u00e3o do valor faltante por uma constante\n    fill_value=0,  # a constante que ser\u00e1 usada para preenchimento dos valores faltantes \u00e9 um int64=0.\n    verbose=0,\n    copy=True\n)",
            "execution_count": 8,
            "outputs": []
        },
        {
            "metadata": {},
            "cell_type": "code",
            "source": "si.fit(X=df_data_2)\ndf_data_3 = pd.DataFrame.from_records(\n    data=si.transform(\n        X=df_data_2\n    ),  # o resultado SimpleImputer.transform(<<pandas dataframe>>) \u00e9 lista de listas\n    columns=df_data_2.columns  # as colunas originais devem ser conservadas nessa transforma\u00e7\u00e3o\n)",
            "execution_count": 9,
            "outputs": []
        },
        {
            "metadata": {},
            "cell_type": "code",
            "source": "features = [\n    'MATRICULA', 'REPROVACOES_DE', 'REPROVACOES_EM', \"REPROVACOES_MF\", \"REPROVACOES_GO\",\n    \"NOTA_DE\", \"NOTA_EM\", \"NOTA_MF\", \"NOTA_GO\",\n    \"INGLES\", \"H_AULA_PRES\", \"TAREFAS_ONLINE\", \"FALTAS\", \n]\ntarget = [\"PERFIL\"]\nX = df_data_3[features]\ny = df_data_3[target]",
            "execution_count": 10,
            "outputs": []
        },
        {
            "metadata": {},
            "cell_type": "code",
            "source": "X_train, X_test, y_train, y_test = train_test_split(X, y, test_size=0.3, random_state=337)",
            "execution_count": 11,
            "outputs": []
        },
        {
            "metadata": {},
            "cell_type": "code",
            "source": "from sklearn.model_selection import train_test_split\nfrom sklearn.datasets import make_classification\nX, y = make_classification(random_state=0)\nX_train, X_test, y_train, y_test = train_test_split(X, y, random_state=42)\ndtc_model = RandomForestClassifier()\ndtc_model.fit(\n    X_train,\n    y_train\n)\ny_pred = dtc_model.predict(X_test)\nfrom sklearn.metrics import accuracy_score\nprint(\"Acur\u00e1cia: {}%\".format(100*round(accuracy_score(y_test, y_pred), 2)))",
            "execution_count": 17,
            "outputs": [
                {
                    "output_type": "stream",
                    "text": "Acur\u00e1cia: 92.0%\n",
                    "name": "stdout"
                },
                {
                    "output_type": "stream",
                    "text": "/opt/conda/envs/Python36/lib/python3.6/site-packages/sklearn/ensemble/forest.py:248: FutureWarning: The default value of n_estimators will change from 10 in version 0.20 to 100 in 0.22.\n  \"10 in version 0.20 to 100 in 0.22.\", FutureWarning)\n",
                    "name": "stderr"
                }
            ]
        },
        {
            "metadata": {},
            "cell_type": "code",
            "source": "# xgb_model = XGBClassifier()\ndtc_model = XGBClassifier()\nprint(dtc_model.get_xgb_params())",
            "execution_count": 14,
            "outputs": [
                {
                    "output_type": "error",
                    "ename": "NameError",
                    "evalue": "name 'XGBClassifier' is not defined",
                    "traceback": [
                        "\u001b[0;31m---------------------------------------------------------------------------\u001b[0m",
                        "\u001b[0;31mNameError\u001b[0m                                 Traceback (most recent call last)",
                        "\u001b[0;32m<ipython-input-14-e189e2eaf131>\u001b[0m in \u001b[0;36m<module>\u001b[0;34m\u001b[0m\n\u001b[1;32m      1\u001b[0m \u001b[0;31m# xgb_model = XGBClassifier()\u001b[0m\u001b[0;34m\u001b[0m\u001b[0;34m\u001b[0m\u001b[0;34m\u001b[0m\u001b[0m\n\u001b[0;32m----> 2\u001b[0;31m \u001b[0mdtc_model\u001b[0m \u001b[0;34m=\u001b[0m \u001b[0mXGBClassifier\u001b[0m\u001b[0;34m(\u001b[0m\u001b[0;34m)\u001b[0m\u001b[0;34m\u001b[0m\u001b[0;34m\u001b[0m\u001b[0m\n\u001b[0m\u001b[1;32m      3\u001b[0m \u001b[0mprint\u001b[0m\u001b[0;34m(\u001b[0m\u001b[0mdtc_model\u001b[0m\u001b[0;34m.\u001b[0m\u001b[0mget_xgb_params\u001b[0m\u001b[0;34m(\u001b[0m\u001b[0;34m)\u001b[0m\u001b[0;34m)\u001b[0m\u001b[0;34m\u001b[0m\u001b[0;34m\u001b[0m\u001b[0m\n",
                        "\u001b[0;31mNameError\u001b[0m: name 'XGBClassifier' is not defined"
                    ]
                }
            ]
        },
        {
            "metadata": {},
            "cell_type": "code",
            "source": "model = dtc_model.fit(X_train, y_train.values.ravel())",
            "execution_count": null,
            "outputs": []
        },
        {
            "metadata": {},
            "cell_type": "code",
            "source": "dtc_model.fit(X_train, y_train, eval_metric=['error'], eval_set=[((X_train, y_train)),(X_test, y_test)])",
            "execution_count": null,
            "outputs": [
                {
                    "output_type": "stream",
                    "text": "/opt/conda/envs/Python36/lib/python3.6/site-packages/sklearn/preprocessing/label.py:219: DataConversionWarning: A column-vector y was passed when a 1d array was expected. Please change the shape of y to (n_samples, ), for example using ravel().\n  y = column_or_1d(y, warn=True)\n/opt/conda/envs/Python36/lib/python3.6/site-packages/sklearn/preprocessing/label.py:252: DataConversionWarning: A column-vector y was passed when a 1d array was expected. Please change the shape of y to (n_samples, ), for example using ravel().\n  y = column_or_1d(y, warn=True)\n",
                    "name": "stderr"
                }
            ]
        },
        {
            "metadata": {},
            "cell_type": "code",
            "source": "dtc_model.fit(\n    X_train,\n    y_train.values.ravel()\n)",
            "execution_count": null,
            "outputs": []
        },
        {
            "metadata": {},
            "cell_type": "code",
            "source": "y_pred = dtc_model.predict(X_test)",
            "execution_count": null,
            "outputs": []
        },
        {
            "metadata": {},
            "cell_type": "code",
            "source": "",
            "execution_count": null,
            "outputs": []
        }
    ],
    "metadata": {
        "kernelspec": {
            "name": "python3",
            "display_name": "Python 3.6",
            "language": "python"
        },
        "language_info": {
            "name": "python",
            "version": "3.6.9",
            "mimetype": "text/x-python",
            "codemirror_mode": {
                "name": "ipython",
                "version": 3
            },
            "pygments_lexer": "ipython3",
            "nbconvert_exporter": "python",
            "file_extension": ".py"
        }
    },
    "nbformat": 4,
    "nbformat_minor": 1
}